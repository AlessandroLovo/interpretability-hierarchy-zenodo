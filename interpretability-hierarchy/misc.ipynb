{
 "cells": [
  {
   "cell_type": "markdown",
   "metadata": {},
   "source": [
    "@author: Alessandro Lovo\n",
    "\n",
    "# Miscellaneous plots\n",
    "\n",
    "This notebook contains miscellaneous plots / analysis. See the headers for more detail"
   ]
  },
  {
   "cell_type": "code",
   "execution_count": 1,
   "metadata": {},
   "outputs": [],
   "source": [
    "import numpy as np\n",
    "import matplotlib\n",
    "import matplotlib.pyplot as plt\n",
    "%matplotlib widget\n",
    "matplotlib.rc('font', size=18)\n",
    "default_colors = plt.rcParams['axes.prop_cycle'].by_key()['color']\n",
    "\n",
    "import xarray as xr\n",
    "import pandas as pd\n",
    "from scipy import sparse\n",
    "from tqdm.notebook import tqdm\n",
    "\n",
    "import sys\n",
    "sys.path.append('../Climate-Learning/')\n",
    "\n",
    "import general_purpose.uplotlib as uplt\n",
    "import general_purpose.cartopy_plots as cplt\n",
    "import general_purpose.utilities as ut\n",
    "\n",
    "HOME = './'"
   ]
  },
  {
   "cell_type": "markdown",
   "metadata": {},
   "source": [
    "## Visualize the data normalization procedure"
   ]
  },
  {
   "cell_type": "code",
   "execution_count": null,
   "metadata": {},
   "outputs": [],
   "source": [
    "lon = np.load('common/lon.npy')\n",
    "lat = np.load('common/lat.npy')\n",
    "LON, LAT = np.meshgrid(lon,lat)\n",
    "\n",
    "y = 'r800y' # use the networks trained on 800 years of data\n",
    "\n",
    "X_means = np.stack([np.load(f'common/{y}/fold_{fold}/X_mean.npy') for fold in range(5)])\n",
    "X_stds = np.stack([np.load(f'common/{y}/fold_{fold}/X_std.npy') for fold in range(5)])\n",
    "\n",
    "X_stds[X_stds == 1] = np.nan\n",
    "\n",
    "X_means.shape, X_stds.shape"
   ]
  },
  {
   "cell_type": "code",
   "execution_count": null,
   "metadata": {},
   "outputs": [],
   "source": [
    "mfp_kwargs = dict(one_fig_layout=120, figsize=(10,5),\n",
    "                  projections=[cplt.ccrs.Orthographic(central_latitude=90), cplt.ccrs.PlateCarree()],\n",
    "                  extents=[None, (-5, 10, 39, 55)],\n",
    "                  titles=[r'Geopotential height [m]', 'Soil moisture [$m^3/m^3$]'],\n",
    "                 )\n",
    "cmaps=['RdBu_r', 'BrBG']\n",
    "\n",
    "std_kwargs = dict(cmaps=['Reds', 'Greens'], vmin=0, colorbar='disabled')"
   ]
  },
  {
   "cell_type": "code",
   "execution_count": null,
   "metadata": {},
   "outputs": [],
   "source": [
    "for fold in range(5):\n",
    "    _ = cplt.mfp(LON,LAT,X_means[fold], **mfp_kwargs, fig_num=8+fold, cmaps=cmaps)\n",
    "    fig = _[0].get_figure()\n",
    "    fig.suptitle(f'fold {fold}')"
   ]
  },
  {
   "cell_type": "markdown",
   "metadata": {},
   "source": [
    "Since the fields are already anomalies, the means are very close to 0"
   ]
  },
  {
   "cell_type": "code",
   "execution_count": null,
   "metadata": {},
   "outputs": [],
   "source": [
    "for fold in range(5):\n",
    "    _ = cplt.mfp(LON,LAT,X_stds[fold], **mfp_kwargs, fig_num=8+fold, **std_kwargs)\n",
    "    fig = _[0].get_figure()\n",
    "    fig.suptitle(f'fold {fold}')"
   ]
  },
  {
   "cell_type": "code",
   "execution_count": null,
   "metadata": {},
   "outputs": [],
   "source": [
    "_ = cplt.mfp(LON,LAT,X_stds.mean(axis=0), **mfp_kwargs, fig_num=1, **std_kwargs)\n",
    "fig = _[0].get_figure()\n",
    "fig.suptitle(f'Mean of stds')\n",
    "_ = cplt.mfp(LON,LAT,X_stds.std(axis=0), **mfp_kwargs, fig_num=2, cmaps=['Reds', 'Greens'], vmin=0, colorbar='disabled')\n",
    "fig = _[0].get_figure()\n",
    "fig.suptitle(f'Std of stds')"
   ]
  },
  {
   "cell_type": "markdown",
   "metadata": {},
   "source": [
    "The maps of std across the folds are extremely similar, we can show only one"
   ]
  },
  {
   "cell_type": "code",
   "execution_count": null,
   "metadata": {},
   "outputs": [],
   "source": [
    "fold = 0\n",
    "_ = cplt.mfp(LON,LAT,X_stds[fold], **mfp_kwargs, fig_num=8+fold, **std_kwargs)\n",
    "fig = _[0].get_figure()\n",
    "fig.suptitle(f'pixel-wise standard deviation')\n",
    "\n",
    "# fig.tight_layout(w_pad=0)\n",
    "fig.tight_layout()\n",
    "\n",
    "fig.savefig(f'{HOME}/STD.pdf')\n",
    "# fig.savefig(f'{HOME}/STD.png', dpi=300)"
   ]
  },
  {
   "cell_type": "markdown",
   "metadata": {},
   "source": [
    "## Quantify how many independent heatwave samples we have\n",
    "\n",
    "Since we take $A(t)$ as the $T=14$-day long running mean of the 2m temperature anomaly over France, consecutive samples are necessarily correlated"
   ]
  },
  {
   "cell_type": "code",
   "execution_count": null,
   "metadata": {},
   "outputs": [],
   "source": [
    "A_te = xr.open_dataarray('common/A_te.nc')\n",
    "threshold = np.load('common/threshold.npy')\n",
    "A_te"
   ]
  },
  {
   "cell_type": "code",
   "execution_count": 12,
   "metadata": {},
   "outputs": [],
   "source": [
    "A = A_te.data.reshape(200,-1) # heatwave amplitude for each year\n",
    "Y = (A >= threshold) # heatwave labels for each year"
   ]
  },
  {
   "cell_type": "markdown",
   "metadata": {},
   "source": [
    "We define a `heatwave day` $d(t)$ which increases by one for each consecutive day that $A(t) \\geq a$, i.e. when we are inside a heatwave.\n",
    "When we exit the heatwave ($A(t) < a$), $d(t)$ goes back to 0, and we save in `heatwave duration` the total number of consecutive days $D(t)$ for which the 14-day average temperature anomaly was above the threshold.\n",
    "\n",
    "We call this variable `heatwave duration`, but beware of the interpretation: if the 14-day average temperature anomaly was above $a$ for $D$ consecutive day, then we can say that the $D+14$-day average temperature was also likely to be above $a$, so, striclty speaking, the heatwave lasted around $D+14$ days."
   ]
  },
  {
   "cell_type": "code",
   "execution_count": null,
   "metadata": {},
   "outputs": [],
   "source": [
    "heatwave_day = np.zeros_like(A)\n",
    "heatwave_durations = []\n",
    "for y in tqdm(range(Y.shape[0])): # iterate over the years\n",
    "    for i in range(Y.shape[1]):\n",
    "        if i == 0 or Y[y,i] == 0:\n",
    "            heatwave_day[y,i] = Y[y,i]\n",
    "            if i > 0 and heatwave_day[y,i-1] > 0:\n",
    "                heatwave_durations.append(heatwave_day[y,i-1])\n",
    "        else:\n",
    "            heatwave_day[y,i] = heatwave_day[y,i-1] + 1\n",
    "\n",
    "        if i == (Y.shape[1] - 1) and heatwave_day[y,i] > 0:\n",
    "            heatwave_durations.append(heatwave_day[y,i])\n",
    "\n",
    "assert np.sum(Y) == np.sum(heatwave_day > 0) == np.sum(heatwave_durations)"
   ]
  },
  {
   "cell_type": "code",
   "execution_count": null,
   "metadata": {},
   "outputs": [],
   "source": [
    "y = 0\n",
    "\n",
    "plt.close(1)\n",
    "fig, ax = plt.subplots(num=1, figsize=(9,6))\n",
    "\n",
    "plt.plot(A[y], color='black', label='$A$')\n",
    "plt.plot(Y[y], label='$Y$')\n",
    "plt.plot(heatwave_day[y], label='heatwave day')\n",
    "plt.axhline(threshold, color='red')\n",
    "\n",
    "plt.legend()\n",
    "plt.xlabel('time [days]')\n",
    "plt.title(f'Test year {y}')\n",
    "\n",
    "fig.tight_layout()"
   ]
  },
  {
   "cell_type": "code",
   "execution_count": null,
   "metadata": {},
   "outputs": [],
   "source": [
    "plt.close(2)\n",
    "fig, ax = plt.subplots(num=2, figsize=(9,6))\n",
    "\n",
    "hist, bins, _ = plt.hist(heatwave_day.flatten(),\n",
    "                         bins=np.arange(1,Y.shape[1]+1), # excluding 0 so we ignore all non-heatwave data\n",
    "                         label='heatwave day')\n",
    "plt.hist(heatwave_durations, bins=bins, label='heatwave duration')\n",
    "\n",
    "plt.yscale('log')\n",
    "\n",
    "plt.legend()\n",
    "\n",
    "fig.tight_layout()"
   ]
  },
  {
   "cell_type": "code",
   "execution_count": null,
   "metadata": {},
   "outputs": [],
   "source": [
    "hist[0]/np.sum(hist)"
   ]
  },
  {
   "cell_type": "markdown",
   "metadata": {},
   "source": [
    "Days of heatwave (i.e. days for which $A(t) > a$) that are also the first day of a longer heatwave (and thus can be considered independent) constitute only 13.8% of the total number of days of heatwave.\n",
    "So yes, in our prediction task we are mainly focused on predicting the continuation of an already ongoing heatwave."
   ]
  },
  {
   "cell_type": "markdown",
   "metadata": {},
   "source": []
  }
 ],
 "metadata": {
  "kernelspec": {
   "display_name": "Python 3",
   "language": "python",
   "name": "python3"
  },
  "language_info": {
   "codemirror_mode": {
    "name": "ipython",
    "version": 3
   },
   "file_extension": ".py",
   "mimetype": "text/x-python",
   "name": "python",
   "nbconvert_exporter": "python",
   "pygments_lexer": "ipython3",
   "version": "3.10.8"
  }
 },
 "nbformat": 4,
 "nbformat_minor": 2
}
